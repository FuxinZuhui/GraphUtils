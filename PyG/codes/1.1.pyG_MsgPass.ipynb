{
 "cells": [
  {
   "cell_type": "markdown",
   "metadata": {},
   "source": [
    "# GCN"
   ]
  },
  {
   "cell_type": "code",
   "execution_count": 50,
   "metadata": {},
   "outputs": [],
   "source": [
    "import numpy as np\n",
    "import torch\n",
    "from torch_geometric.nn import MessagePassing\n",
    "from torch_geometric.utils import add_self_loops, degree\n",
    "\n",
    "class GCN(MessagePassing):\n",
    "    def __init__(self, in_channels, out_channels):\n",
    "        super().__init__(aggr=\"add\")\n",
    "        self.lin = torch.nn.Linear(in_channels, out_channels)\n",
    "    def forward(self, x, edge_index):\n",
    "        '''\n",
    "        x: [num_nodes, num_node_features]\n",
    "        edge_index: [2, num_edges]\n",
    "        '''\n",
    "        # 添加自回环\n",
    "        edge_index, _ = add_self_loops(edge_index, num_nodes = x.size(0))\n",
    "        #x = self.lin(x)\n",
    "\n",
    "        row, col = edge_index\n",
    "        #pyG官方文档可能忽略了这一点, degree计算不包括self-loop\n",
    "        deg = degree(col, x.size(0)) - 1\n",
    "        deg_inv_sqrt = deg.pow(-0.5)\n",
    "        deg_inv_sqrt[deg_inv_sqrt == float('inf')] = 0\n",
    "        # feature归一化需要除以deg(i)**(-0.5)和deg(j)**(-0.5)\n",
    "        norm = deg_inv_sqrt[row] * deg_inv_sqrt[col]\n",
    "        \n",
    "        return self.propagate(edge_index, x=x, norm=norm)\n",
    "\n",
    "    def message(self, x_j, norm):\n",
    "        '''\n",
    "        x_j: [num_edges, out_channels],代表利用每个edge_index关联到的node\n",
    "        norm: [num_edges]\n",
    "        '''\n",
    "        print(norm)\n",
    "        return norm.view(-1,1) * x_j"
   ]
  },
  {
   "cell_type": "code",
   "execution_count": 51,
   "metadata": {},
   "outputs": [
    {
     "name": "stdout",
     "output_type": "stream",
     "text": [
      "tensor([0, 1, 1, 1, 1, 6, 7, 8])\n",
      "(tensor([[0, 1, 1, 1, 1, 6, 7, 8, 0, 1, 2, 3, 4, 5, 6, 7, 8],\n",
      "        [1, 6, 7, 8, 0, 1, 1, 1, 0, 1, 2, 3, 4, 5, 6, 7, 8]]), None)\n",
      "tensor([1., 4., 0., 0., 0., 0., 1., 1., 1.])\n",
      "tensor([1., 4., 0., 0., 0., 0., 1., 1., 1., 0., 0., 0., 0., 0., 0., 0., 0., 0.,\n",
      "        0., 0.])\n",
      "tensor([0.5000, 0.5000, 0.5000, 0.5000, 0.5000, 0.5000, 0.5000, 0.5000, 1.0000,\n",
      "        0.2500, 0.0000, 0.0000, 0.0000, 0.0000, 1.0000, 1.0000, 1.0000, 0.0000,\n",
      "        0.0000, 0.0000, 0.0000, 0.0000, 0.0000, 0.0000, 0.0000, 0.0000, 0.0000,\n",
      "        0.0000])\n"
     ]
    }
   ],
   "source": [
    "x = np.ones((20,2))\n",
    "x = torch.from_numpy(x).float()\n",
    "edge_index = torch.tensor([[0,1,1,1,1,6,7,8],\n",
    "                           [1,6,7,8,0,1,1,1]], \n",
    "                           dtype = torch.int64)\n",
    "\n",
    "print(edge_index[0,:])\n",
    "print(add_self_loops(edge_index))                  \n",
    "print(degree(edge_index[0,:]))\n",
    "print(degree(edge_index[0,:], 20))\n",
    "\n",
    "conv = GCN(2, 1)\n",
    "x = conv(x, edge_index)"
   ]
  },
  {
   "cell_type": "code",
   "execution_count": null,
   "metadata": {},
   "outputs": [],
   "source": []
  }
 ],
 "metadata": {
  "kernelspec": {
   "display_name": "Python 3.7.0 ('torch')",
   "language": "python",
   "name": "python3"
  },
  "language_info": {
   "codemirror_mode": {
    "name": "ipython",
    "version": 3
   },
   "file_extension": ".py",
   "mimetype": "text/x-python",
   "name": "python",
   "nbconvert_exporter": "python",
   "pygments_lexer": "ipython3",
   "version": "3.7.0"
  },
  "orig_nbformat": 4,
  "vscode": {
   "interpreter": {
    "hash": "f31b5846fe4d0e510ff280a80fa1fd1567c5c662c3b99a86eb737e0309da4a2e"
   }
  }
 },
 "nbformat": 4,
 "nbformat_minor": 2
}
