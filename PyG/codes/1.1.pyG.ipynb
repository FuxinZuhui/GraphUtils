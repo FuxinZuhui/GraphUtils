{
 "cells": [
  {
   "cell_type": "markdown",
   "metadata": {},
   "source": [
    "# PyG的Data"
   ]
  },
  {
   "cell_type": "code",
   "execution_count": 86,
   "metadata": {},
   "outputs": [
    {
     "data": {
      "text/plain": [
       "Data(x=[3, 1], edge_index=[2, 4])"
      ]
     },
     "execution_count": 86,
     "metadata": {},
     "output_type": "execute_result"
    }
   ],
   "source": [
    "import torch\n",
    "from torch_geometric.data import Data\n",
    "DATA_PATH = \"../datas/\"\n",
    "\n",
    "edge_index = torch.tensor([[0, 1, 1, 2],\n",
    "                           [1, 0, 2, 1]], dtype=torch.long)\n",
    "x = torch.tensor([[-1], [0], [1]], dtype=torch.float)\n",
    "\n",
    "data = Data(x=x, edge_index=edge_index)\n",
    "data"
   ]
  },
  {
   "cell_type": "code",
   "execution_count": 87,
   "metadata": {},
   "outputs": [
    {
     "name": "stdout",
     "output_type": "stream",
     "text": [
      "['x', 'edge_index']\n",
      "--------------------------------------------------\n",
      "tensor([[-1.],\n",
      "        [ 0.],\n",
      "        [ 1.]])\n",
      "--------------------------------------------------\n",
      "x found in data\n",
      "edge_index found in data\n",
      "--------------------------------------------------\n",
      "False\n",
      "--------------------------------------------------\n",
      "3\n",
      "--------------------------------------------------\n",
      "4\n",
      "--------------------------------------------------\n",
      "1\n",
      "--------------------------------------------------\n",
      "False\n",
      "--------------------------------------------------\n",
      "False\n",
      "--------------------------------------------------\n",
      "False\n",
      "--------------------------------------------------\n"
     ]
    }
   ],
   "source": [
    "print(data.keys)\n",
    "print(\"-\" * 50)\n",
    "print(data['x'])\n",
    "print(\"-\" * 50)\n",
    "for key, item in data:\n",
    "    print(f'{key} found in data')\n",
    "print(\"-\" * 50)\n",
    "print('edge_attr' in data)\n",
    "print(\"-\" * 50)\n",
    "print(data.num_nodes)\n",
    "print(\"-\" * 50)\n",
    "print(data.num_edges)\n",
    "print(\"-\" * 50)\n",
    "print(data.num_node_features)\n",
    "print(\"-\" * 50)\n",
    "print(data.has_isolated_nodes())\n",
    "print(\"-\" * 50)\n",
    "print(data.has_self_loops())\n",
    "print(\"-\" * 50)\n",
    "print(data.is_directed())\n",
    "print(\"-\" * 50)\n",
    "\n",
    "# Transfer data object to GPU.\n",
    "device = torch.device('cuda')\n",
    "data = data.to(device)"
   ]
  },
  {
   "cell_type": "markdown",
   "metadata": {},
   "source": [
    "# 通用基准数据集"
   ]
  },
  {
   "cell_type": "code",
   "execution_count": 88,
   "metadata": {},
   "outputs": [
    {
     "name": "stdout",
     "output_type": "stream",
     "text": [
      "length of ENZYMES:600\n",
      "num classes:6\n",
      "num node features:3\n",
      "Data(edge_index=[2, 168], x=[37, 3], y=[1])\n",
      "ENZYMES(20)\n",
      "True\n"
     ]
    }
   ],
   "source": [
    "from torch_geometric.datasets import TUDataset\n",
    "\n",
    "dataset = TUDataset(root=DATA_PATH + 'ENZYMES', name='ENZYMES')\n",
    "print(\"length of ENZYMES:{}\".format(len(dataset)))\n",
    "print(\"num classes:{}\".format(dataset.num_classes))\n",
    "print(\"num node features:{}\".format(dataset.num_node_features))\n",
    "print(dataset[0])\n",
    "print(dataset[:20]) # dataset切片\n",
    "print(dataset[0].is_undirected())\n",
    "# print(dataset.__dict__) #查看具体属性"
   ]
  },
  {
   "cell_type": "code",
   "execution_count": 89,
   "metadata": {},
   "outputs": [],
   "source": [
    "dataset = dataset.shuffle() # dataset打乱\n",
    "# 上述方法等于\n",
    "perm = torch.randperm(len(dataset))\n",
    "dataset = dataset[perm]"
   ]
  },
  {
   "cell_type": "code",
   "execution_count": 90,
   "metadata": {},
   "outputs": [
    {
     "data": {
      "text/plain": [
       "'from torch_geometric.datasets import Planetoid\\n\\ndataset = Planetoid(root=DATA_PATH + \\'Cora\\', name=\\'Cora\\')\\nprint(\"length of Cora:{}\".format(len(dataset)))\\nprint(\"num classes:{}\".format(dataset.num_classes))\\nprint(\"num node features:{}\".format(dataset.num_node_features))'"
      ]
     },
     "execution_count": 90,
     "metadata": {},
     "output_type": "execute_result"
    }
   ],
   "source": [
    "'''from torch_geometric.datasets import Planetoid\n",
    "\n",
    "dataset = Planetoid(root=DATA_PATH + 'Cora', name='Cora')\n",
    "print(\"length of Cora:{}\".format(len(dataset)))\n",
    "print(\"num classes:{}\".format(dataset.num_classes))\n",
    "print(\"num node features:{}\".format(dataset.num_node_features))'''"
   ]
  },
  {
   "cell_type": "markdown",
   "metadata": {},
   "source": [
    "# mini-batch"
   ]
  },
  {
   "cell_type": "code",
   "execution_count": 91,
   "metadata": {},
   "outputs": [
    {
     "name": "stdout",
     "output_type": "stream",
     "text": [
      "DataBatch(edge_index=[2, 4086], x=[1081, 21], y=[32], batch=[1081], ptr=[33])\n",
      "Data(edge_index=[2, 168], x=[37, 21], y=[1])\n",
      "Data(edge_index=[2, 106], x=[29, 21], y=[1])\n",
      "['edge_index', 'x', 'y', 'batch', 'ptr']\n"
     ]
    }
   ],
   "source": [
    "from torch_geometric.datasets import TUDataset\n",
    "from torch_geometric.loader import DataLoader\n",
    "\n",
    "dataset = TUDataset(root=DATA_PATH + 'ENZYMES', name='ENZYMES', use_node_attr=True)\n",
    "loader = DataLoader(dataset, batch_size=32, shuffle=True)\n",
    "\n",
    "for batch in loader:\n",
    "    print(batch)\n",
    "    break\n",
    "\n",
    "print(dataset[0])\n",
    "print(dataset[200])\n",
    "print(list(batch.__dict__[\"_store\"].keys()))"
   ]
  },
  {
   "cell_type": "code",
   "execution_count": null,
   "metadata": {},
   "outputs": [],
   "source": []
  }
 ],
 "metadata": {
  "kernelspec": {
   "display_name": "Python 3.7.0 ('torch')",
   "language": "python",
   "name": "python3"
  },
  "language_info": {
   "codemirror_mode": {
    "name": "ipython",
    "version": 3
   },
   "file_extension": ".py",
   "mimetype": "text/x-python",
   "name": "python",
   "nbconvert_exporter": "python",
   "pygments_lexer": "ipython3",
   "version": "3.7.0"
  },
  "orig_nbformat": 4,
  "vscode": {
   "interpreter": {
    "hash": "f31b5846fe4d0e510ff280a80fa1fd1567c5c662c3b99a86eb737e0309da4a2e"
   }
  }
 },
 "nbformat": 4,
 "nbformat_minor": 2
}
