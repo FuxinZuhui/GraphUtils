{
 "cells": [
  {
   "cell_type": "markdown",
   "metadata": {},
   "source": [
    "# GCN"
   ]
  },
  {
   "cell_type": "code",
   "execution_count": 49,
   "metadata": {},
   "outputs": [],
   "source": [
    "import numpy as np\n",
    "import torch\n",
    "from torch_geometric.nn import MessagePassing\n",
    "from torch_geometric.utils import add_self_loops, degree\n",
    "\n",
    "class GCN(MessagePassing):\n",
    "    def __init__(self, in_channels, out_channels):\n",
    "        super().__init__(aggr=\"add\")\n",
    "        self.lin = torch.nn.Linear(in_channels, out_channels)\n",
    "    def forward(self, x, edge_index):\n",
    "        '''\n",
    "        x: [num_nodes, num_node_features]\n",
    "        edge_index: [2, num_edges]\n",
    "        '''\n",
    "        # 添加自回环\n",
    "        edge_index, _ = add_self_loops(edge_index, num_nodes = x.size(0))\n",
    "        #x = self.lin(x)\n",
    "\n",
    "        row, col = edge_index\n",
    "        #pyG官方文档可能忽略了这一点, degree计算不包括self-loop\n",
    "        deg = degree(col, x.size(0)) - 1\n",
    "        deg_inv_sqrt = deg.pow(-0.5)\n",
    "        deg_inv_sqrt[deg_inv_sqrt == float('inf')] = 0\n",
    "        # feature归一化需要除以deg(i)**(-0.5)和deg(j)**(-0.5)\n",
    "        norm = deg_inv_sqrt[row] * deg_inv_sqrt[col]\n",
    "        \n",
    "        return self.propagate(edge_index, x=x, norm=norm)\n",
    "\n",
    "    def message(self, x_j, norm):\n",
    "        '''\n",
    "        x_j: [num_edges, out_channels],代表利用每个edge_index关联到的node\n",
    "        norm: [num_edges]\n",
    "        '''\n",
    "        print(norm)\n",
    "        return norm.view(-1,1) * x_j"
   ]
  },
  {
   "cell_type": "code",
   "execution_count": 50,
   "metadata": {},
   "outputs": [
    {
     "name": "stdout",
     "output_type": "stream",
     "text": [
      "tensor([0, 1, 1, 1, 1, 6, 7, 8])\n",
      "(tensor([[0, 1, 1, 1, 1, 6, 7, 8, 0, 1, 2, 3, 4, 5, 6, 7, 8],\n",
      "        [1, 6, 7, 8, 0, 1, 1, 1, 0, 1, 2, 3, 4, 5, 6, 7, 8]]), None)\n",
      "tensor([1., 4., 0., 0., 0., 0., 1., 1., 1.])\n",
      "tensor([1., 4., 0., 0., 0., 0., 1., 1., 1., 0., 0., 0., 0., 0., 0., 0., 0., 0.,\n",
      "        0., 0.])\n",
      "tensor([0.5000, 0.5000, 0.5000, 0.5000, 0.5000, 0.5000, 0.5000, 0.5000, 1.0000,\n",
      "        0.2500, 0.0000, 0.0000, 0.0000, 0.0000, 1.0000, 1.0000, 1.0000, 0.0000,\n",
      "        0.0000, 0.0000, 0.0000, 0.0000, 0.0000, 0.0000, 0.0000, 0.0000, 0.0000,\n",
      "        0.0000])\n"
     ]
    }
   ],
   "source": [
    "x = np.ones((20,2))\n",
    "x = torch.from_numpy(x).float()\n",
    "edge_index = torch.tensor([[0,1,1,1,1,6,7,8],\n",
    "                           [1,6,7,8,0,1,1,1]], \n",
    "                           dtype = torch.int64)\n",
    "\n",
    "print(edge_index[0,:])\n",
    "print(add_self_loops(edge_index))                  \n",
    "print(degree(edge_index[0,:]))\n",
    "print(degree(edge_index[0,:], 20))\n",
    "\n",
    "conv = GCN(2, 1)\n",
    "x = conv(x, edge_index)"
   ]
  },
  {
   "cell_type": "markdown",
   "metadata": {},
   "source": [
    "# EdgeConv"
   ]
  },
  {
   "cell_type": "code",
   "execution_count": 51,
   "metadata": {},
   "outputs": [],
   "source": [
    "from torch.nn import Sequential, Linear, ReLU\n",
    "from torch_geometric.nn import knn_graph\n",
    "class EdgeConv(MessagePassing):\n",
    "    def __init__(self, in_channels, out_channels):\n",
    "        super().__init__(aggr = \"max\")\n",
    "        self.mlp = Sequential(\n",
    "            Linear(2 * in_channels, out_channels),\n",
    "            ReLU(),\n",
    "            Linear(out_channels, out_channels)\n",
    "        )\n",
    "\n",
    "    def forward(self, x, edge_index):\n",
    "        \n",
    "        return self.propagate(edge_index, x=x)\n",
    "\n",
    "    def message(self, x_i, x_j):\n",
    "        x_j = torch.cat([x_i, x_j - x_i], dim=1)\n",
    "        return self.mlp(x_j)\n",
    "\n",
    "class DynamicEdgeConv(EdgeConv):\n",
    "    def __init__(self, in_channels, out_channels, k=6):\n",
    "        super().__init__(in_channels, out_channels)\n",
    "        self.k = k\n",
    "\n",
    "    def forward(self, x, batch = None):\n",
    "        edge_index = knn_graph(x, k=self.k, batch=batch, loop=False, flow=self.flow)\n",
    "        return super().forward(x, edge_index)\n",
    "\n"
   ]
  },
  {
   "cell_type": "code",
   "execution_count": 52,
   "metadata": {},
   "outputs": [
    {
     "name": "stdout",
     "output_type": "stream",
     "text": [
      "Data(x=[2518, 3], y=[2518], pos=[2518, 3], category=[1], edge_index=[2, 15108])\n"
     ]
    }
   ],
   "source": [
    "import torch_geometric.transforms as T\n",
    "from torch_geometric.datasets import ShapeNet\n",
    "DATA_PATH = \"../datas/\"\n",
    "dataset = ShapeNet(root=DATA_PATH + 'ShapeNet', categories=['Airplane'],\n",
    "                    pre_transform=T.KNNGraph(k=6),\n",
    "                    transform=T.RandomTranslate(0.01))\n",
    "\n",
    "print(dataset[0])\n",
    "conv = DynamicEdgeConv(3, 128, k=6)\n",
    "x = conv(dataset[0].x, batch=None)\n"
   ]
  },
  {
   "cell_type": "code",
   "execution_count": 53,
   "metadata": {},
   "outputs": [
    {
     "name": "stdout",
     "output_type": "stream",
     "text": [
      "Data(x=[2708, 1433], edge_index=[2, 10556], y=[2708], train_mask=[2708], val_mask=[2708], test_mask=[2708])\n"
     ]
    }
   ],
   "source": [
    "from torch_geometric.datasets import Planetoid\n",
    "\n",
    "DATA_PATH = \"../datas/\"\n",
    "\n",
    "dataset = Planetoid(root= DATA_PATH + 'Cora', name='Cora')\n",
    "print(dataset[0])\n",
    "\n",
    "conv = DynamicEdgeConv(1433, 128, k=6)\n",
    "x = conv(dataset[0].x, batch=None)"
   ]
  }
 ],
 "metadata": {
  "kernelspec": {
   "display_name": "Python 3.7.0 ('torch')",
   "language": "python",
   "name": "python3"
  },
  "language_info": {
   "codemirror_mode": {
    "name": "ipython",
    "version": 3
   },
   "file_extension": ".py",
   "mimetype": "text/x-python",
   "name": "python",
   "nbconvert_exporter": "python",
   "pygments_lexer": "ipython3",
   "version": "3.7.0"
  },
  "orig_nbformat": 4,
  "vscode": {
   "interpreter": {
    "hash": "f31b5846fe4d0e510ff280a80fa1fd1567c5c662c3b99a86eb737e0309da4a2e"
   }
  }
 },
 "nbformat": 4,
 "nbformat_minor": 2
}
