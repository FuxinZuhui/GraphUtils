{
 "cells": [
  {
   "cell_type": "markdown",
   "metadata": {},
   "source": [
    "# PyG的Data"
   ]
  },
  {
   "cell_type": "code",
   "execution_count": 48,
   "metadata": {},
   "outputs": [
    {
     "data": {
      "text/plain": [
       "Data(x=[3, 1], edge_index=[2, 4])"
      ]
     },
     "execution_count": 48,
     "metadata": {},
     "output_type": "execute_result"
    }
   ],
   "source": [
    "import torch\n",
    "from torch_geometric.data import Data\n",
    "DATA_PATH = \"../datas/\"\n",
    "\n",
    "edge_index = torch.tensor([[0, 1, 1, 2],\n",
    "                           [1, 0, 2, 1]], dtype=torch.long)\n",
    "x = torch.tensor([[-1], [0], [1]], dtype=torch.float)\n",
    "\n",
    "data = Data(x=x, edge_index=edge_index)\n",
    "data"
   ]
  },
  {
   "cell_type": "code",
   "execution_count": 49,
   "metadata": {},
   "outputs": [
    {
     "name": "stdout",
     "output_type": "stream",
     "text": [
      "['x', 'edge_index']\n",
      "--------------------------------------------------\n",
      "tensor([[-1.],\n",
      "        [ 0.],\n",
      "        [ 1.]])\n",
      "--------------------------------------------------\n",
      "x found in data\n",
      "edge_index found in data\n",
      "--------------------------------------------------\n",
      "False\n",
      "--------------------------------------------------\n",
      "3\n",
      "--------------------------------------------------\n",
      "4\n",
      "--------------------------------------------------\n",
      "1\n",
      "--------------------------------------------------\n",
      "False\n",
      "--------------------------------------------------\n",
      "False\n",
      "--------------------------------------------------\n",
      "False\n",
      "--------------------------------------------------\n"
     ]
    }
   ],
   "source": [
    "print(data.keys)\n",
    "print(\"-\" * 50)\n",
    "print(data['x'])\n",
    "print(\"-\" * 50)\n",
    "for key, item in data:\n",
    "    print(f'{key} found in data')\n",
    "print(\"-\" * 50)\n",
    "print('edge_attr' in data)\n",
    "print(\"-\" * 50)\n",
    "print(data.num_nodes)\n",
    "print(\"-\" * 50)\n",
    "print(data.num_edges)\n",
    "print(\"-\" * 50)\n",
    "print(data.num_node_features)\n",
    "print(\"-\" * 50)\n",
    "print(data.has_isolated_nodes())\n",
    "print(\"-\" * 50)\n",
    "print(data.has_self_loops())\n",
    "print(\"-\" * 50)\n",
    "print(data.is_directed())\n",
    "print(\"-\" * 50)\n",
    "\n",
    "# Transfer data object to GPU.\n",
    "device = torch.device('cuda')\n",
    "data = data.to(device)"
   ]
  },
  {
   "cell_type": "markdown",
   "metadata": {},
   "source": [
    "# 通用基准数据集"
   ]
  },
  {
   "cell_type": "code",
   "execution_count": 50,
   "metadata": {},
   "outputs": [
    {
     "name": "stdout",
     "output_type": "stream",
     "text": [
      "length of ENZYMES:600\n",
      "num classes:6\n",
      "num node features:3\n",
      "Data(edge_index=[2, 168], x=[37, 3], y=[1])\n",
      "ENZYMES(20)\n",
      "True\n"
     ]
    }
   ],
   "source": [
    "from torch_geometric.datasets import TUDataset\n",
    "\n",
    "dataset = TUDataset(root=DATA_PATH + 'ENZYMES', name='ENZYMES')\n",
    "print(\"length of ENZYMES:{}\".format(len(dataset)))\n",
    "print(\"num classes:{}\".format(dataset.num_classes))\n",
    "print(\"num node features:{}\".format(dataset.num_node_features))\n",
    "print(dataset[0])\n",
    "print(dataset[:20]) # dataset切片\n",
    "print(dataset[0].is_undirected())\n",
    "# print(dataset.__dict__) #查看具体属性"
   ]
  },
  {
   "cell_type": "code",
   "execution_count": 51,
   "metadata": {},
   "outputs": [],
   "source": [
    "dataset = dataset.shuffle() # dataset打乱\n",
    "# 上述方法等于\n",
    "perm = torch.randperm(len(dataset))\n",
    "dataset = dataset[perm]"
   ]
  },
  {
   "cell_type": "code",
   "execution_count": 52,
   "metadata": {},
   "outputs": [
    {
     "data": {
      "text/plain": [
       "'from torch_geometric.datasets import Planetoid\\n\\ndataset = Planetoid(root=DATA_PATH + \\'Cora\\', name=\\'Cora\\')\\nprint(\"length of Cora:{}\".format(len(dataset)))\\nprint(\"num classes:{}\".format(dataset.num_classes))\\nprint(\"num node features:{}\".format(dataset.num_node_features))'"
      ]
     },
     "execution_count": 52,
     "metadata": {},
     "output_type": "execute_result"
    }
   ],
   "source": [
    "'''from torch_geometric.datasets import Planetoid\n",
    "\n",
    "dataset = Planetoid(root=DATA_PATH + 'Cora', name='Cora')\n",
    "print(\"length of Cora:{}\".format(len(dataset)))\n",
    "print(\"num classes:{}\".format(dataset.num_classes))\n",
    "print(\"num node features:{}\".format(dataset.num_node_features))'''"
   ]
  },
  {
   "cell_type": "markdown",
   "metadata": {},
   "source": [
    "# mini-batch"
   ]
  },
  {
   "cell_type": "code",
   "execution_count": 53,
   "metadata": {},
   "outputs": [
    {
     "name": "stdout",
     "output_type": "stream",
     "text": [
      "DataBatch(edge_index=[2, 4414], x=[1115, 21], y=[32], batch=[1115], ptr=[33])\n",
      "Data(edge_index=[2, 168], x=[37, 21], y=[1])\n",
      "Data(edge_index=[2, 106], x=[29, 21], y=[1])\n",
      "['edge_index', 'x', 'y', 'batch', 'ptr']\n"
     ]
    }
   ],
   "source": [
    "from torch_geometric.datasets import TUDataset\n",
    "from torch_geometric.loader import DataLoader\n",
    "\n",
    "dataset = TUDataset(root=DATA_PATH + 'ENZYMES', name='ENZYMES', use_node_attr=True)\n",
    "loader = DataLoader(dataset, batch_size=32, shuffle=True)\n",
    "\n",
    "for batch in loader:\n",
    "    print(batch)\n",
    "    break\n",
    "\n",
    "print(dataset[0])\n",
    "print(dataset[200])\n",
    "print(list(batch.__dict__[\"_store\"].keys()))"
   ]
  },
  {
   "cell_type": "markdown",
   "metadata": {},
   "source": [
    "# Batch子图处理"
   ]
  },
  {
   "cell_type": "code",
   "execution_count": 54,
   "metadata": {},
   "outputs": [
    {
     "name": "stdout",
     "output_type": "stream",
     "text": [
      "DataBatch(edge_index=[2, 3930], x=[1052, 21], y=[32], batch=[1052], ptr=[33])\n",
      "32\n",
      "torch.Size([32, 21])\n"
     ]
    }
   ],
   "source": [
    "from torch_scatter import scatter_mean\n",
    "\n",
    "dataset = TUDataset(root= DATA_PATH + 'ENZYMES', name='ENZYMES', use_node_attr=True)\n",
    "loader = DataLoader(dataset, batch_size=32, shuffle=True)\n",
    "\n",
    "for data in loader:\n",
    "    print(data)\n",
    "    print(data.num_graphs)\n",
    "    x = scatter_mean(data.x, data.batch, dim=0)\n",
    "    print(x.size())\n",
    "    break"
   ]
  },
  {
   "cell_type": "markdown",
   "metadata": {},
   "source": [
    "## Data Transform"
   ]
  },
  {
   "cell_type": "code",
   "execution_count": 55,
   "metadata": {},
   "outputs": [
    {
     "name": "stdout",
     "output_type": "stream",
     "text": [
      "Data(x=[2518, 3], y=[2518], pos=[2518, 3], category=[1], edge_index=[2, 15108])\n",
      "tensor([[ 927,  929, 2365,  ..., 2516,  798, 1644],\n",
      "        [   0,    0,    0,  ..., 2517, 2517, 2517]])\n",
      "tensor([0, 0, 3,  ..., 3, 1, 1])\n"
     ]
    }
   ],
   "source": [
    "import torch_geometric.transforms as T\n",
    "from torch_geometric.datasets import ShapeNet\n",
    "\n",
    "dataset = ShapeNet(root=DATA_PATH + 'ShapeNet', categories=['Airplane'],\n",
    "                    pre_transform=T.KNNGraph(k=6),\n",
    "                    transform=T.RandomTranslate(0.01))\n",
    "# lastest version: RandomTranslate convert to RandomJitter\n",
    "\n",
    "print(dataset[0])\n",
    "print(dataset[0].edge_index)\n",
    "print(dataset[0].y)"
   ]
  },
  {
   "cell_type": "markdown",
   "metadata": {},
   "source": [
    "## Learning Methods on Graphs"
   ]
  },
  {
   "cell_type": "code",
   "execution_count": 56,
   "metadata": {},
   "outputs": [
    {
     "name": "stdout",
     "output_type": "stream",
     "text": [
      "Data(x=[2708, 1433], edge_index=[2, 10556], y=[2708], train_mask=[2708], val_mask=[2708], test_mask=[2708])\n",
      "Accuracy: 0.8020\n"
     ]
    }
   ],
   "source": [
    "import torch\n",
    "import torch.nn.functional as F\n",
    "from torch_geometric.nn import GCNConv\n",
    "from torch_geometric.datasets import Planetoid\n",
    "\n",
    "\n",
    "dataset = Planetoid(root= DATA_PATH + 'Cora', name='Cora')\n",
    "print(dataset[0])\n",
    "\n",
    "class GCN(torch.nn.Module):\n",
    "    def __init__(self):\n",
    "        super().__init__()\n",
    "        # GCNConv类的forward类首先调用基类MessagePassing中的propogate,\n",
    "        # propogate会调起覆写的message_and_passing()\n",
    "        self.conv1 = GCNConv(dataset.num_node_features, 16)\n",
    "        self.conv2 = GCNConv(16, dataset.num_classes)\n",
    "\n",
    "    def forward(self, data):\n",
    "        x, edge_index = data.x, data.edge_index\n",
    "\n",
    "        x = self.conv1(x, edge_index)\n",
    "        x = F.relu(x)\n",
    "        x = F.dropout(x, training=self.training)\n",
    "        x = self.conv2(x, edge_index)\n",
    "\n",
    "        return F.log_softmax(x, dim=1)\n",
    "\n",
    "device = torch.device(\"cuda\" if torch.cuda.is_available() else \"cpu\")\n",
    "gcn = GCN().to(device)\n",
    "data = dataset[0].to(device)\n",
    "optimizer = torch.optim.Adam(gcn.parameters(), lr=0.01, weight_decay=5e-4)\n",
    "\n",
    "gcn.train()\n",
    "for epoch in range(100):\n",
    "    optimizer.zero_grad()\n",
    "    out = gcn(data)\n",
    "    loss = F.nll_loss(out[data.train_mask], data.y[data.train_mask])\n",
    "    loss.backward()\n",
    "    optimizer.step()\n",
    "\n",
    "gcn.eval()\n",
    "pred = gcn(data).argmax(dim=1)\n",
    "correct = (pred[data.test_mask] == data.y[data.test_mask]).sum()\n",
    "acc = int(correct) / int(data.test_mask.sum())\n",
    "print(f'Accuracy: {acc:.4f}')"
   ]
  },
  {
   "cell_type": "markdown",
   "metadata": {},
   "source": [
    "# Exercise"
   ]
  },
  {
   "cell_type": "code",
   "execution_count": 57,
   "metadata": {},
   "outputs": [
    {
     "name": "stdout",
     "output_type": "stream",
     "text": [
      "data info:Data(edge_index=[2, 146], y=[1], num_nodes=20), data len:1000\n"
     ]
    }
   ],
   "source": [
    "import numpy as np\n",
    "import pandas as pd\n",
    "\n",
    "\n",
    "dataset = TUDataset(root=DATA_PATH + 'IMDB-BINARY', name='IMDB-BINARY',use_node_attr=True, use_edge_attr = True)\n",
    "print(\"data info:{}, data len:{}\".format(dataset[0],len(dataset)))"
   ]
  },
  {
   "cell_type": "code",
   "execution_count": 58,
   "metadata": {},
   "outputs": [
    {
     "data": {
      "text/plain": [
       "{'_store': {'edge_index': tensor([[ 0,  0,  0,  0,  0,  1,  1,  1,  1,  1,  1,  1,  1,  2,  2,  2,  2,  2,\n",
       "           2,  2,  2,  2,  2,  2,  2,  2,  2,  2,  2,  2,  2,  2,  3,  3,  3,  3,\n",
       "           3,  3,  4,  4,  4,  4,  4,  5,  5,  5,  5,  5,  6,  6,  6,  6,  6,  6,\n",
       "           6,  6,  6,  6,  6,  7,  7,  7,  8,  8,  8,  8,  8,  8,  8,  8,  9,  9,\n",
       "           9,  9,  9, 10, 10, 10, 10, 10, 11, 11, 11, 11, 11, 11, 12, 12, 12, 12,\n",
       "          12, 12, 12, 12, 12, 12, 12, 13, 13, 13, 14, 14, 14, 14, 14, 14, 14, 14,\n",
       "          15, 15, 15, 15, 16, 16, 16, 16, 16, 16, 17, 17, 17, 17, 17, 17, 17, 17,\n",
       "          18, 18, 18, 18, 18, 18, 18, 18, 19, 19, 19, 19, 19, 19, 19, 19, 19, 19,\n",
       "          19, 19],\n",
       "         [ 2,  4,  5,  9, 10,  2,  6,  8, 12, 14, 17, 18, 19,  0,  1,  3,  4,  5,\n",
       "           6,  7,  8,  9, 10, 11, 12, 13, 14, 15, 16, 17, 18, 19,  2,  6, 11, 12,\n",
       "          16, 19,  0,  2,  5,  9, 10,  0,  2,  4,  9, 10,  1,  2,  3,  8, 11, 12,\n",
       "          14, 16, 17, 18, 19,  2, 13, 15,  1,  2,  6, 12, 14, 17, 18, 19,  0,  2,\n",
       "           4,  5, 10,  0,  2,  4,  5,  9,  2,  3,  6, 12, 16, 19,  1,  2,  3,  6,\n",
       "           8, 11, 14, 16, 17, 18, 19,  2,  7, 15,  1,  2,  6,  8, 12, 17, 18, 19,\n",
       "           2,  7, 13, 19,  2,  3,  6, 11, 12, 19,  1,  2,  6,  8, 12, 14, 18, 19,\n",
       "           1,  2,  6,  8, 12, 14, 17, 19,  1,  2,  3,  6,  8, 11, 12, 14, 15, 16,\n",
       "          17, 18]]), 'y': tensor([0]), 'num_nodes': 20}}"
      ]
     },
     "execution_count": 58,
     "metadata": {},
     "output_type": "execute_result"
    }
   ],
   "source": [
    "dataset[0].__dict__"
   ]
  },
  {
   "cell_type": "code",
   "execution_count": 59,
   "metadata": {},
   "outputs": [],
   "source": [
    "def dataset_split(dataset, train_frac = 0.8, val_frac = 0.1, test_frac = 0.1):\n",
    "    sample_num = len(dataset)\n",
    "    idxs = np.array(range(sample_num))\n",
    "    np.random.shuffle(idxs)\n",
    "    trn_end = int(train_frac * sample_num)\n",
    "    val_end = trn_end + int(val_frac * sample_num)\n",
    "    tst_end = val_end + int(test_frac * sample_num)\n",
    "\n",
    "    trn_data = dataset[:trn_end]\n",
    "    val_data = dataset[trn_end: val_end]\n",
    "    tst_data = dataset[val_end: tst_end]\n",
    "\n",
    "    return trn_data, val_data, tst_data\n",
    "\n",
    "trn_data, val_data, tst_data = dataset_split(dataset)\n",
    "trn_loader = DataLoader(trn_data, batch_size=32)\n",
    "val_loader = DataLoader(val_data, batch_size=32)\n",
    "tst_loader = DataLoader(tst_data, batch_size=32)"
   ]
  },
  {
   "cell_type": "code",
   "execution_count": null,
   "metadata": {},
   "outputs": [],
   "source": []
  }
 ],
 "metadata": {
  "kernelspec": {
   "display_name": "Python 3.7.0 ('torch')",
   "language": "python",
   "name": "python3"
  },
  "language_info": {
   "codemirror_mode": {
    "name": "ipython",
    "version": 3
   },
   "file_extension": ".py",
   "mimetype": "text/x-python",
   "name": "python",
   "nbconvert_exporter": "python",
   "pygments_lexer": "ipython3",
   "version": "3.7.0"
  },
  "orig_nbformat": 4,
  "vscode": {
   "interpreter": {
    "hash": "f31b5846fe4d0e510ff280a80fa1fd1567c5c662c3b99a86eb737e0309da4a2e"
   }
  }
 },
 "nbformat": 4,
 "nbformat_minor": 2
}
