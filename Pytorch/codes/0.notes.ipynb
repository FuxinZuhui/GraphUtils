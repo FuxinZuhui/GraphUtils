{
 "cells": [
  {
   "cell_type": "code",
   "execution_count": 7,
   "metadata": {},
   "outputs": [
    {
     "name": "stdout",
     "output_type": "stream",
     "text": [
      "20\n",
      "[[16 23]\n",
      " [30 43]]\n",
      "[16 23]\n",
      "[14 26]\n"
     ]
    }
   ],
   "source": [
    "import torch\n",
    "# 1D and 1D\n",
    "seq_1 = torch.tensor([1,2,3])\n",
    "seq_2 = torch.tensor([2,3,4])\n",
    "print(torch.matmul(seq_1, seq_2).item())\n",
    "\n",
    "# 2D and 2D\n",
    "mat_1 = torch.tensor([[1,2,3],[3,4,5]])\n",
    "mat_2 = torch.tensor([[2,2],[1,3],[4,5]])\n",
    "print(torch.matmul(mat_1, mat_2).numpy())\n",
    "\n",
    "# 1D and 2D/2D and 1D\n",
    "print(torch.matmul(seq_1, mat_2).numpy())\n",
    "print(torch.matmul(mat_1, seq_1).numpy())"
   ]
  },
  {
   "cell_type": "code",
   "execution_count": null,
   "metadata": {},
   "outputs": [],
   "source": []
  }
 ],
 "metadata": {
  "kernelspec": {
   "display_name": "Python 3.7.0 ('torch')",
   "language": "python",
   "name": "python3"
  },
  "language_info": {
   "codemirror_mode": {
    "name": "ipython",
    "version": 3
   },
   "file_extension": ".py",
   "mimetype": "text/x-python",
   "name": "python",
   "nbconvert_exporter": "python",
   "pygments_lexer": "ipython3",
   "version": "3.7.3"
  },
  "orig_nbformat": 4,
  "vscode": {
   "interpreter": {
    "hash": "f31b5846fe4d0e510ff280a80fa1fd1567c5c662c3b99a86eb737e0309da4a2e"
   }
  }
 },
 "nbformat": 4,
 "nbformat_minor": 2
}
