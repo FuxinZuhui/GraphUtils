{
 "cells": [
  {
   "cell_type": "code",
   "execution_count": 11,
   "metadata": {},
   "outputs": [],
   "source": [
    "import torch\n",
    "import torch.nn.functional as F"
   ]
  },
  {
   "cell_type": "markdown",
   "metadata": {},
   "source": [
    "## `nn.functional.pad`"
   ]
  },
  {
   "cell_type": "code",
   "execution_count": 12,
   "metadata": {},
   "outputs": [
    {
     "name": "stdout",
     "output_type": "stream",
     "text": [
      "last 1 channel padding: torch.Size([3, 3, 4, 4]) \n",
      "last 2 channel padding: torch.Size([3, 3, 5, 4]) \n",
      "last 3 channel padding: torch.Size([3, 4, 6, 4]) \n",
      "\n"
     ]
    }
   ],
   "source": [
    "t4d = torch.randn(3, 3, 4, 2)\n",
    "lst1_pad = F.pad(t4d, (1,1))\n",
    "lst2_pad = F.pad(t4d, (1,1,1,0))\n",
    "lst3_pad = F.pad(t4d, (1,1,1,1,1,0))\n",
    "\n",
    "print(\n",
    "    f'last 1 channel padding: {lst1_pad.shape} \\n'\n",
    "    f'last 2 channel padding: {lst2_pad.shape} \\n' \n",
    "    f'last 3 channel padding: {lst3_pad.shape} \\n'\n",
    ")"
   ]
  }
 ],
 "metadata": {
  "kernelspec": {
   "display_name": "Python 3.7.3 ('torch')",
   "language": "python",
   "name": "python3"
  },
  "language_info": {
   "codemirror_mode": {
    "name": "ipython",
    "version": 3
   },
   "file_extension": ".py",
   "mimetype": "text/x-python",
   "name": "python",
   "nbconvert_exporter": "python",
   "pygments_lexer": "ipython3",
   "version": "3.7.3"
  },
  "orig_nbformat": 4,
  "vscode": {
   "interpreter": {
    "hash": "f31b5846fe4d0e510ff280a80fa1fd1567c5c662c3b99a86eb737e0309da4a2e"
   }
  }
 },
 "nbformat": 4,
 "nbformat_minor": 2
}
